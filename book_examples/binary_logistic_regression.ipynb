{
 "cells": [
  {
   "cell_type": "code",
   "execution_count": 48,
   "metadata": {},
   "outputs": [],
   "source": [
    "import sys\n",
    "sys.path.insert(0, '..')\n",
    "import numpy as np\n",
    "from nnfs.datasets import spiral_data\n",
    "from layers.layer_dense import Layer_Dense\n",
    "from activation_func.relu import Activation_ReLU\n",
    "from activation_func.sigmoid import Activation_Sigmoid\n",
    "from loss.binary_cross_entropy import Loss_BinaryCrossentropy\n",
    "from optimizers.adam import Optimizer_Adam "
   ]
  },
  {
   "cell_type": "code",
   "execution_count": 42,
   "metadata": {},
   "outputs": [],
   "source": [
    "#load dataset \n",
    "X, y = spiral_data(samples=100, classes=2)"
   ]
  },
  {
   "cell_type": "code",
   "execution_count": 43,
   "metadata": {},
   "outputs": [],
   "source": [
    "#Reshape labels to be a list of lists\n",
    "#Inner list contains one output (either 0 or 1)\n",
    "#per each output neuron, 1 in this case\n",
    "y= y.reshape(-1, 1)"
   ]
  },
  {
   "cell_type": "code",
   "execution_count": 51,
   "metadata": {},
   "outputs": [],
   "source": [
    "# Create Dense layer with 2 input features and 64 output values\n",
    "dense1 = Layer_Dense(2, 64, weight_regularizer_l2=5e-4,\n",
    "                     bias_regularizer_l2=5e-4)\n",
    "\n",
    "relu=Activation_ReLU()\n",
    "#layer2 64 input features and 1 output value    \n",
    "dense2=Layer_Dense(64,1)\n",
    "sigmoid=Activation_Sigmoid()\n",
    "\n",
    "loss_function = Loss_BinaryCrossentropy()\n",
    "optimizer = Optimizer_Adam(decay=5e-7)"
   ]
  },
  {
   "cell_type": "code",
   "execution_count": null,
   "metadata": {},
   "outputs": [],
   "source": []
  }
 ],
 "metadata": {
  "kernelspec": {
   "display_name": "Python 3",
   "language": "python",
   "name": "python3"
  },
  "language_info": {
   "codemirror_mode": {
    "name": "ipython",
    "version": 3
   },
   "file_extension": ".py",
   "mimetype": "text/x-python",
   "name": "python",
   "nbconvert_exporter": "python",
   "pygments_lexer": "ipython3",
   "version": "3.8.10"
  },
  "orig_nbformat": 4
 },
 "nbformat": 4,
 "nbformat_minor": 2
}
