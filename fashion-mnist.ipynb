{
 "cells": [
  {
   "cell_type": "code",
   "execution_count": 68,
   "metadata": {},
   "outputs": [],
   "source": [
    "#todo:implement fashion-mnist:"
   ]
  },
  {
   "cell_type": "code",
   "execution_count": 18,
   "metadata": {},
   "outputs": [],
   "source": [
    "from zipfile import ZipFile\n",
    "import os\n",
    "import sys\n",
    "import urllib\n",
    "from model.model import Model\n",
    "import urllib.request\n",
    "import numpy as np\n",
    "import cv2\n",
    "from layers.layer_dense import Layer_Dense\n",
    "from activation_func.relu import Activation_ReLU\n",
    "from activation_func.softmax import Activation_Softmax\n",
    "from loss.categorical_cross_entropy import Loss_CategoricalCrossentropy\n",
    "from optimizers.adam import Optimizer_Adam\n",
    "from accuracy.accuracy_categorical import Accuracy_Categorical\n"
   ]
  },
  {
   "cell_type": "code",
   "execution_count": 19,
   "metadata": {},
   "outputs": [],
   "source": [
    "# #data preparation \n",
    "# URL = 'https://nnfs.io/datasets/fashion_mnist_images.zip'\n",
    "# FILE = 'fashion_mnist_images.zip'\n",
    "# FOLDER = 'fashion_mnist_images'\n",
    "# if not os.path.isfile(FILE):\n",
    "#     print(f'Downloading {URL} and saving as {FILE}...')\n",
    "#     urllib.request.urlretrieve(URL, FILE)\n",
    "\n",
    "# print('Unzipping images...')\n",
    "# with ZipFile(FILE) as zip_images:\n",
    "#     zip_images.extractall(FOLDER) \n",
    "\n",
    "# print('Done!')"
   ]
  },
  {
   "cell_type": "code",
   "execution_count": 20,
   "metadata": {},
   "outputs": [],
   "source": [
    "#load mnist dataset\n",
    "def load_mnist_dataset(dataset,path):\n",
    "    #list all directories and set them as label [0 to 9]\n",
    "    labels = os.listdir(os.path.join(path, dataset))\n",
    "    X = []\n",
    "    y  = []\n",
    "    \n",
    "    for label in labels:\n",
    "        for file in os.listdir(os.path.join(path,dataset,label)):\n",
    "            image = cv2.imread(os.path.join(path, dataset, label, file),\n",
    "                cv2.IMREAD_UNCHANGED)\n",
    "                # And append it and a label to the lists\n",
    "            X.append(image)\n",
    "            y.append(label)\n",
    "\n",
    "    return np.array(X),np.array(y).astype('uint8')"
   ]
  },
  {
   "cell_type": "code",
   "execution_count": 9,
   "metadata": {},
   "outputs": [],
   "source": [
    "#create mnist dataset \n",
    "def create_data_mnist(path):\n",
    "    X, y = load_mnist_dataset('train', path)\n",
    "    X_test, y_test = load_mnist_dataset('test', path)\n",
    "    # And return all the data\n",
    "    return X, y, X_test, y_test"
   ]
  },
  {
   "cell_type": "code",
   "execution_count": 10,
   "metadata": {},
   "outputs": [],
   "source": [
    "#load dataset\n",
    "X, y, X_test, y_test = create_data_mnist('fashion_mnist_images')"
   ]
  },
  {
   "cell_type": "code",
   "execution_count": 11,
   "metadata": {},
   "outputs": [
    {
     "data": {
      "text/plain": [
       "((60000, 28, 28), (60000,))"
      ]
     },
     "execution_count": 11,
     "metadata": {},
     "output_type": "execute_result"
    }
   ],
   "source": [
    "# Shuffle the training dataset\n",
    "keys = np.array(range(X.shape[0]))\n",
    "np.random.shuffle(keys)\n",
    "X = X[keys]\n",
    "y = y[keys]\n",
    "\n",
    "X.shape,y.shape"
   ]
  },
  {
   "cell_type": "code",
   "execution_count": 12,
   "metadata": {},
   "outputs": [],
   "source": [
    "# Scale and reshape samples\n",
    "X = (X.reshape(X.shape[0], -1).astype(np.float32) - 127.5) / 127.5\n",
    "X_test = (X_test.reshape(X_test.shape[0], -1).astype(np.float32) -\n",
    "127.5) / 127.5"
   ]
  },
  {
   "cell_type": "code",
   "execution_count": 13,
   "metadata": {},
   "outputs": [
    {
     "name": "stdout",
     "output_type": "stream",
     "text": [
      "test\n"
     ]
    },
    {
     "data": {
      "text/plain": [
       "((60000, 784), (10000, 784))"
      ]
     },
     "execution_count": 13,
     "metadata": {},
     "output_type": "execute_result"
    }
   ],
   "source": [
    "model_train = Model()\n",
    "X.shape,X_test.shape"
   ]
  },
  {
   "cell_type": "code",
   "execution_count": 14,
   "metadata": {},
   "outputs": [],
   "source": [
    "#add layers to the list \n",
    "model_train.add(Layer_Dense(X.shape[1], 64))\n",
    "model_train.add(Activation_ReLU())\n",
    "model_train.add(Layer_Dense(64, 64))\n",
    "model_train.add(Activation_ReLU())\n",
    "model_train.add(Layer_Dense(64, 10))\n",
    "model_train.add(Activation_Softmax())"
   ]
  },
  {
   "cell_type": "code",
   "execution_count": 15,
   "metadata": {},
   "outputs": [
    {
     "name": "stdout",
     "output_type": "stream",
     "text": [
      "done\n"
     ]
    }
   ],
   "source": [
    "#set loss,optimizer and accuracy  \n",
    "model_train.set(\n",
    "loss=Loss_CategoricalCrossentropy(),\n",
    "optimizer=Optimizer_Adam(decay=5e-5),\n",
    "accuracy=Accuracy_Categorical()\n",
    ")"
   ]
  },
  {
   "cell_type": "code",
   "execution_count": 16,
   "metadata": {},
   "outputs": [],
   "source": [
    "# Finalize the model\n",
    "model_train.finalize()"
   ]
  },
  {
   "cell_type": "code",
   "execution_count": null,
   "metadata": {},
   "outputs": [],
   "source": [
    "model_train.train(X, y, validation_data=(X_test, y_test),\n",
    "epochs=1000, batch_size=128, print_every=100)"
   ]
  },
  {
   "attachments": {},
   "cell_type": "markdown",
   "metadata": {},
   "source": []
  },
  {
   "cell_type": "code",
   "execution_count": 163,
   "metadata": {},
   "outputs": [],
   "source": []
  },
  {
   "cell_type": "code",
   "execution_count": null,
   "metadata": {},
   "outputs": [],
   "source": []
  }
 ],
 "metadata": {
  "kernelspec": {
   "display_name": "Python 3",
   "language": "python",
   "name": "python3"
  },
  "language_info": {
   "codemirror_mode": {
    "name": "ipython",
    "version": 3
   },
   "file_extension": ".py",
   "mimetype": "text/x-python",
   "name": "python",
   "nbconvert_exporter": "python",
   "pygments_lexer": "ipython3",
   "version": "3.8.10"
  },
  "orig_nbformat": 4
 },
 "nbformat": 4,
 "nbformat_minor": 2
}
