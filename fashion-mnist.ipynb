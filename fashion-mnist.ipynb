{
 "cells": [
  {
   "cell_type": "code",
   "execution_count": 68,
   "metadata": {},
   "outputs": [],
   "source": [
    "#todo:implement fashion-mnist:"
   ]
  },
  {
   "cell_type": "code",
   "execution_count": 1,
   "metadata": {},
   "outputs": [],
   "source": [
    "from zipfile import ZipFile\n",
    "import os\n",
    "import sys\n",
    "import urllib\n",
    "from model.model import Model\n",
    "import urllib.request\n",
    "import numpy as np\n",
    "import cv2\n",
    "from layers.layer_dense import Layer_Dense\n",
    "from activation_func.relu import Activation_ReLU\n",
    "from activation_func.softmax import Activation_Softmax\n",
    "from loss.categorical_cross_entropy import Loss_CategoricalCrossentropy\n",
    "from optimizers.adam import Optimizer_Adam\n",
    "from accuracy.accuracy_categorical import Accuracy_Categorical\n"
   ]
  },
  {
   "cell_type": "code",
   "execution_count": 2,
   "metadata": {},
   "outputs": [],
   "source": [
    "# #data preparation \n",
    "# URL = 'https://nnfs.io/datasets/fashion_mnist_images.zip'\n",
    "# FILE = 'fashion_mnist_images.zip'\n",
    "# FOLDER = 'fashion_mnist_images'\n",
    "# if not os.path.isfile(FILE):\n",
    "#     print(f'Downloading {URL} and saving as {FILE}...')\n",
    "#     urllib.request.urlretrieve(URL, FILE)\n",
    "\n",
    "# print('Unzipping images...')\n",
    "# with ZipFile(FILE) as zip_images:\n",
    "#     zip_images.extractall(FOLDER) \n",
    "\n",
    "# print('Done!')"
   ]
  },
  {
   "cell_type": "code",
   "execution_count": 2,
   "metadata": {},
   "outputs": [],
   "source": [
    "#load mnist dataset\n",
    "def load_mnist_dataset(dataset,path):\n",
    "    #list all directories and set them as label [0 to 9]\n",
    "    labels = os.listdir(os.path.join(path, dataset))\n",
    "    X = []\n",
    "    y  = []\n",
    "    \n",
    "    for label in labels:\n",
    "        for file in os.listdir(os.path.join(path,dataset,label)):\n",
    "            image = cv2.imread(os.path.join(path, dataset, label, file),\n",
    "                cv2.IMREAD_UNCHANGED)\n",
    "                # And append it and a label to the lists\n",
    "            X.append(image)\n",
    "            y.append(label)\n",
    "\n",
    "    return np.array(X),np.array(y).astype('uint8')"
   ]
  },
  {
   "cell_type": "code",
   "execution_count": 3,
   "metadata": {},
   "outputs": [],
   "source": [
    "#create mnist dataset \n",
    "def create_data_mnist(path):\n",
    "    X, y = load_mnist_dataset('train', path)\n",
    "    X_test, y_test = load_mnist_dataset('test', path)\n",
    "    # And return all the data\n",
    "    return X, y, X_test, y_test"
   ]
  },
  {
   "cell_type": "code",
   "execution_count": 5,
   "metadata": {},
   "outputs": [
    {
     "ename": "FileNotFoundError",
     "evalue": "[Errno 2] No such file or directory: 'NNFS_BOOK/fashion_mnist_images/train'",
     "output_type": "error",
     "traceback": [
      "\u001b[0;31m---------------------------------------------------------------------------\u001b[0m",
      "\u001b[0;31mFileNotFoundError\u001b[0m                         Traceback (most recent call last)",
      "\u001b[0;32m<ipython-input-5-1f72ef318274>\u001b[0m in \u001b[0;36m<module>\u001b[0;34m\u001b[0m\n\u001b[1;32m      1\u001b[0m \u001b[0;31m#load dataset\u001b[0m\u001b[0;34m\u001b[0m\u001b[0;34m\u001b[0m\u001b[0;34m\u001b[0m\u001b[0m\n\u001b[0;32m----> 2\u001b[0;31m \u001b[0mX\u001b[0m\u001b[0;34m,\u001b[0m \u001b[0my\u001b[0m\u001b[0;34m,\u001b[0m \u001b[0mX_test\u001b[0m\u001b[0;34m,\u001b[0m \u001b[0my_test\u001b[0m \u001b[0;34m=\u001b[0m \u001b[0mcreate_data_mnist\u001b[0m\u001b[0;34m(\u001b[0m\u001b[0;34m'NNFS_BOOK/fashion_mnist_images'\u001b[0m\u001b[0;34m)\u001b[0m\u001b[0;34m\u001b[0m\u001b[0;34m\u001b[0m\u001b[0m\n\u001b[0m",
      "\u001b[0;32m<ipython-input-3-633891b70e26>\u001b[0m in \u001b[0;36mcreate_data_mnist\u001b[0;34m(path)\u001b[0m\n\u001b[1;32m      1\u001b[0m \u001b[0;31m#create mnist dataset\u001b[0m\u001b[0;34m\u001b[0m\u001b[0;34m\u001b[0m\u001b[0;34m\u001b[0m\u001b[0m\n\u001b[1;32m      2\u001b[0m \u001b[0;32mdef\u001b[0m \u001b[0mcreate_data_mnist\u001b[0m\u001b[0;34m(\u001b[0m\u001b[0mpath\u001b[0m\u001b[0;34m)\u001b[0m\u001b[0;34m:\u001b[0m\u001b[0;34m\u001b[0m\u001b[0;34m\u001b[0m\u001b[0m\n\u001b[0;32m----> 3\u001b[0;31m     \u001b[0mX\u001b[0m\u001b[0;34m,\u001b[0m \u001b[0my\u001b[0m \u001b[0;34m=\u001b[0m \u001b[0mload_mnist_dataset\u001b[0m\u001b[0;34m(\u001b[0m\u001b[0;34m'train'\u001b[0m\u001b[0;34m,\u001b[0m \u001b[0mpath\u001b[0m\u001b[0;34m)\u001b[0m\u001b[0;34m\u001b[0m\u001b[0;34m\u001b[0m\u001b[0m\n\u001b[0m\u001b[1;32m      4\u001b[0m     \u001b[0mX_test\u001b[0m\u001b[0;34m,\u001b[0m \u001b[0my_test\u001b[0m \u001b[0;34m=\u001b[0m \u001b[0mload_mnist_dataset\u001b[0m\u001b[0;34m(\u001b[0m\u001b[0;34m'test'\u001b[0m\u001b[0;34m,\u001b[0m \u001b[0mpath\u001b[0m\u001b[0;34m)\u001b[0m\u001b[0;34m\u001b[0m\u001b[0;34m\u001b[0m\u001b[0m\n\u001b[1;32m      5\u001b[0m     \u001b[0;31m# And return all the data\u001b[0m\u001b[0;34m\u001b[0m\u001b[0;34m\u001b[0m\u001b[0;34m\u001b[0m\u001b[0m\n",
      "\u001b[0;32m<ipython-input-2-bcc989f580f8>\u001b[0m in \u001b[0;36mload_mnist_dataset\u001b[0;34m(dataset, path)\u001b[0m\n\u001b[1;32m      2\u001b[0m \u001b[0;32mdef\u001b[0m \u001b[0mload_mnist_dataset\u001b[0m\u001b[0;34m(\u001b[0m\u001b[0mdataset\u001b[0m\u001b[0;34m,\u001b[0m\u001b[0mpath\u001b[0m\u001b[0;34m)\u001b[0m\u001b[0;34m:\u001b[0m\u001b[0;34m\u001b[0m\u001b[0;34m\u001b[0m\u001b[0m\n\u001b[1;32m      3\u001b[0m     \u001b[0;31m#list all directories and set them as label [0 to 9]\u001b[0m\u001b[0;34m\u001b[0m\u001b[0;34m\u001b[0m\u001b[0;34m\u001b[0m\u001b[0m\n\u001b[0;32m----> 4\u001b[0;31m     \u001b[0mlabels\u001b[0m \u001b[0;34m=\u001b[0m \u001b[0mos\u001b[0m\u001b[0;34m.\u001b[0m\u001b[0mlistdir\u001b[0m\u001b[0;34m(\u001b[0m\u001b[0mos\u001b[0m\u001b[0;34m.\u001b[0m\u001b[0mpath\u001b[0m\u001b[0;34m.\u001b[0m\u001b[0mjoin\u001b[0m\u001b[0;34m(\u001b[0m\u001b[0mpath\u001b[0m\u001b[0;34m,\u001b[0m \u001b[0mdataset\u001b[0m\u001b[0;34m)\u001b[0m\u001b[0;34m)\u001b[0m\u001b[0;34m\u001b[0m\u001b[0;34m\u001b[0m\u001b[0m\n\u001b[0m\u001b[1;32m      5\u001b[0m     \u001b[0mX\u001b[0m \u001b[0;34m=\u001b[0m \u001b[0;34m[\u001b[0m\u001b[0;34m]\u001b[0m\u001b[0;34m\u001b[0m\u001b[0;34m\u001b[0m\u001b[0m\n\u001b[1;32m      6\u001b[0m     \u001b[0my\u001b[0m  \u001b[0;34m=\u001b[0m \u001b[0;34m[\u001b[0m\u001b[0;34m]\u001b[0m\u001b[0;34m\u001b[0m\u001b[0;34m\u001b[0m\u001b[0m\n",
      "\u001b[0;31mFileNotFoundError\u001b[0m: [Errno 2] No such file or directory: 'NNFS_BOOK/fashion_mnist_images/train'"
     ]
    }
   ],
   "source": [
    "#load dataset\n",
    "X, y, X_test, y_test = create_data_mnist('fashion_mnist_images')"
   ]
  },
  {
   "cell_type": "code",
   "execution_count": 6,
   "metadata": {},
   "outputs": [
    {
     "data": {
      "text/plain": [
       "((60000, 28, 28), (60000,))"
      ]
     },
     "execution_count": 6,
     "metadata": {},
     "output_type": "execute_result"
    }
   ],
   "source": [
    "# Shuffle the training dataset\n",
    "keys = np.array(range(X.shape[0]))\n",
    "np.random.shuffle(keys)\n",
    "X = X[keys]\n",
    "y = y[keys]\n",
    "\n",
    "X.shape,y.shape"
   ]
  },
  {
   "cell_type": "code",
   "execution_count": 7,
   "metadata": {},
   "outputs": [],
   "source": [
    "# Scale and reshape samples\n",
    "X = (X.reshape(X.shape[0], -1).astype(np.float32) - 127.5) / 127.5\n",
    "X_test = (X_test.reshape(X_test.shape[0], -1).astype(np.float32) -\n",
    "127.5) / 127.5"
   ]
  },
  {
   "cell_type": "code",
   "execution_count": 9,
   "metadata": {},
   "outputs": [
    {
     "name": "stdout",
     "output_type": "stream",
     "text": [
      "test\n"
     ]
    },
    {
     "data": {
      "text/plain": [
       "((60000, 784), (10000, 784))"
      ]
     },
     "execution_count": 9,
     "metadata": {},
     "output_type": "execute_result"
    }
   ],
   "source": [
    "model_train = Model()\n",
    "X.shape,X_test.shape"
   ]
  },
  {
   "cell_type": "code",
   "execution_count": 10,
   "metadata": {},
   "outputs": [],
   "source": [
    "#add layers to the list \n",
    "model_train.add(Layer_Dense(X.shape[1], 64))\n",
    "model_train.add(Activation_ReLU())\n",
    "model_train.add(Layer_Dense(64, 64))\n",
    "model_train.add(Activation_ReLU())\n",
    "model_train.add(Layer_Dense(64, 10))\n",
    "model_train.add(Activation_Softmax())"
   ]
  },
  {
   "cell_type": "code",
   "execution_count": 11,
   "metadata": {},
   "outputs": [
    {
     "name": "stdout",
     "output_type": "stream",
     "text": [
      "done\n"
     ]
    }
   ],
   "source": [
    "#set loss,optimizer and accuracy  \n",
    "model_train.set(\n",
    "loss=Loss_CategoricalCrossentropy(),\n",
    "optimizer=Optimizer_Adam(decay=5e-5),\n",
    "accuracy=Accuracy_Categorical()\n",
    ")"
   ]
  },
  {
   "cell_type": "code",
   "execution_count": 12,
   "metadata": {},
   "outputs": [],
   "source": [
    "# Finalize the model\n",
    "model_train.finalize()"
   ]
  },
  {
   "cell_type": "code",
   "execution_count": 13,
   "metadata": {},
   "outputs": [
    {
     "name": "stdout",
     "output_type": "stream",
     "text": [
      "epoch1: 1\n",
      "step: 0, acc: 0.078, loss: 2.303 (data_loss: 2.303, reg_loss: 0.000), lr: 0.001\n",
      "step: 100, acc: 0.680, loss: 0.737 (data_loss: 0.737, reg_loss: 0.000), lr: 0.0009950248756218907\n",
      "step: 200, acc: 0.727, loss: 0.740 (data_loss: 0.740, reg_loss: 0.000), lr: 0.0009900990099009901\n",
      "step: 300, acc: 0.828, loss: 0.439 (data_loss: 0.439, reg_loss: 0.000), lr: 0.0009852216748768474\n",
      "step: 400, acc: 0.859, loss: 0.395 (data_loss: 0.395, reg_loss: 0.000), lr: 0.000980392156862745\n",
      "step: 468, acc: 0.760, loss: 0.572 (data_loss: 0.572, reg_loss: 0.000), lr: 0.0009771350400625367\n",
      "training, acc: 0.718, loss: 0.753 (data_loss: 0.753, reg_loss: 0.000), lr: 0.0009771350400625367\n",
      "validation, acc: 0.802, loss: 0.541\n",
      "epoch1: 2\n",
      "step: 0, acc: 0.828, loss: 0.477 (data_loss: 0.477, reg_loss: 0.000), lr: 0.0009770873027505008\n",
      "step: 100, acc: 0.844, loss: 0.465 (data_loss: 0.465, reg_loss: 0.000), lr: 0.000972337012008362\n",
      "step: 200, acc: 0.812, loss: 0.578 (data_loss: 0.578, reg_loss: 0.000), lr: 0.0009676326866321544\n",
      "step: 300, acc: 0.914, loss: 0.301 (data_loss: 0.301, reg_loss: 0.000), lr: 0.0009629736626703259\n",
      "step: 400, acc: 0.898, loss: 0.336 (data_loss: 0.336, reg_loss: 0.000), lr: 0.0009583592888974076\n",
      "step: 468, acc: 0.750, loss: 0.496 (data_loss: 0.496, reg_loss: 0.000), lr: 0.0009552466924583273\n",
      "training, acc: 0.830, loss: 0.470 (data_loss: 0.470, reg_loss: 0.000), lr: 0.0009552466924583273\n",
      "validation, acc: 0.827, loss: 0.467\n",
      "epoch1: 3\n",
      "step: 0, acc: 0.844, loss: 0.411 (data_loss: 0.411, reg_loss: 0.000), lr: 0.0009552010698251983\n",
      "step: 100, acc: 0.844, loss: 0.409 (data_loss: 0.409, reg_loss: 0.000), lr: 0.0009506607091928891\n",
      "step: 200, acc: 0.797, loss: 0.546 (data_loss: 0.546, reg_loss: 0.000), lr: 0.0009461633077869241\n",
      "step: 300, acc: 0.922, loss: 0.255 (data_loss: 0.255, reg_loss: 0.000), lr: 0.0009417082587814295\n",
      "step: 400, acc: 0.898, loss: 0.284 (data_loss: 0.284, reg_loss: 0.000), lr: 0.0009372949667260287\n",
      "step: 468, acc: 0.781, loss: 0.437 (data_loss: 0.437, reg_loss: 0.000), lr: 0.000934317481080071\n",
      "training, acc: 0.848, loss: 0.418 (data_loss: 0.418, reg_loss: 0.000), lr: 0.000934317481080071\n",
      "validation, acc: 0.844, loss: 0.432\n",
      "epoch1: 4\n",
      "step: 0, acc: 0.867, loss: 0.380 (data_loss: 0.380, reg_loss: 0.000), lr: 0.0009342738356612324\n",
      "step: 100, acc: 0.867, loss: 0.363 (data_loss: 0.363, reg_loss: 0.000), lr: 0.0009299297903008323\n",
      "step: 200, acc: 0.812, loss: 0.520 (data_loss: 0.520, reg_loss: 0.000), lr: 0.0009256259545517657\n",
      "step: 300, acc: 0.922, loss: 0.227 (data_loss: 0.227, reg_loss: 0.000), lr: 0.0009213617727000506\n",
      "step: 400, acc: 0.898, loss: 0.252 (data_loss: 0.252, reg_loss: 0.000), lr: 0.0009171366992250195\n",
      "step: 468, acc: 0.823, loss: 0.401 (data_loss: 0.401, reg_loss: 0.000), lr: 0.0009142857142857143\n",
      "training, acc: 0.860, loss: 0.387 (data_loss: 0.387, reg_loss: 0.000), lr: 0.0009142857142857143\n",
      "validation, acc: 0.852, loss: 0.410\n",
      "epoch1: 5\n",
      "step: 0, acc: 0.891, loss: 0.351 (data_loss: 0.351, reg_loss: 0.000), lr: 0.0009142439202779302\n",
      "step: 100, acc: 0.898, loss: 0.327 (data_loss: 0.327, reg_loss: 0.000), lr: 0.0009100837277029487\n",
      "step: 200, acc: 0.805, loss: 0.491 (data_loss: 0.491, reg_loss: 0.000), lr: 0.0009059612248595759\n",
      "step: 300, acc: 0.922, loss: 0.209 (data_loss: 0.209, reg_loss: 0.000), lr: 0.0009018759018759019\n",
      "step: 400, acc: 0.898, loss: 0.234 (data_loss: 0.234, reg_loss: 0.000), lr: 0.0008978272580355541\n",
      "step: 468, acc: 0.833, loss: 0.384 (data_loss: 0.384, reg_loss: 0.000), lr: 0.0008950948800572861\n",
      "training, acc: 0.867, loss: 0.364 (data_loss: 0.364, reg_loss: 0.000), lr: 0.0008950948800572861\n",
      "validation, acc: 0.858, loss: 0.394\n"
     ]
    }
   ],
   "source": [
    "model_train.train(X, y, validation_data=(X_test, y_test),\n",
    "epochs=5, batch_size=128, print_every=100)"
   ]
  },
  {
   "attachments": {},
   "cell_type": "markdown",
   "metadata": {},
   "source": []
  },
  {
   "cell_type": "code",
   "execution_count": 163,
   "metadata": {},
   "outputs": [],
   "source": []
  },
  {
   "cell_type": "code",
   "execution_count": null,
   "metadata": {},
   "outputs": [],
   "source": []
  }
 ],
 "metadata": {
  "kernelspec": {
   "display_name": "Python 3",
   "language": "python",
   "name": "python3"
  },
  "language_info": {
   "codemirror_mode": {
    "name": "ipython",
    "version": 3
   },
   "file_extension": ".py",
   "mimetype": "text/x-python",
   "name": "python",
   "nbconvert_exporter": "python",
   "pygments_lexer": "ipython3",
   "version": "3.8.10"
  },
  "orig_nbformat": 4
 },
 "nbformat": 4,
 "nbformat_minor": 2
}
