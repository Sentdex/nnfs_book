{
 "cells": [
  {
   "cell_type": "code",
   "execution_count": 1,
   "metadata": {},
   "outputs": [],
   "source": [
    "import sys\n",
    "sys.path.insert(0, '..')\n",
    "import numpy as np\n",
    "from layers.layer_dense import Layer_Dense\n",
    "from activation_func.relu import Activation_ReLU\n",
    "from activation_func.softmax import Activation_Softmax\n",
    "from optimizers.sgd import Optimizer_SGD\n",
    "from loss.loss import Loss"
   ]
  },
  {
   "cell_type": "code",
   "execution_count": 2,
   "metadata": {},
   "outputs": [],
   "source": [
    "from pooling.maxpool_2d import MaxPooling2D"
   ]
  },
  {
   "cell_type": "code",
   "execution_count": 3,
   "metadata": {},
   "outputs": [],
   "source": [
    "import torch\n",
    "import torch.nn as nn"
   ]
  },
  {
   "cell_type": "code",
   "execution_count": 9,
   "metadata": {},
   "outputs": [],
   "source": [
    "#inputs shapes [n,c_in,h_in,w_in]\n",
    "input = torch.randn(1, 1, 3, 3)\n",
    "m = nn.MaxPool2d(2, stride=1)\n",
    "input.requires_grad=True\n",
    "out=m(input)\n",
    "t=torch.sum(out)\n",
    "t.backward()\n",
    "in_grad=input.grad\n",
    "\n",
    "input_permuted=input.permute(0,2,3,1).detach().numpy()[:,:,:,0]\n",
    "input_grad=input.grad.permute(0,2,3,1).detach().numpy()[:,:,:,0]\n",
    "out_perm=out.permute(0,2,3,1).detach().numpy()[:,:,:,0]"
   ]
  },
  {
   "cell_type": "code",
   "execution_count": 10,
   "metadata": {},
   "outputs": [],
   "source": [
    "pool2d=MaxPooling2D(2,1)\n",
    "dvalues=np.ones_like(input_permuted)\n",
    "pool2d.forward(input_permuted)\n",
    "pool2d.backward(dvalues)"
   ]
  },
  {
   "cell_type": "code",
   "execution_count": 11,
   "metadata": {},
   "outputs": [
    {
     "data": {
      "text/plain": [
       "True"
      ]
     },
     "execution_count": 11,
     "metadata": {},
     "output_type": "execute_result"
    }
   ],
   "source": []
  },
  {
   "cell_type": "code",
   "execution_count": 12,
   "metadata": {},
   "outputs": [
    {
     "data": {
      "text/plain": [
       "True"
      ]
     },
     "execution_count": 12,
     "metadata": {},
     "output_type": "execute_result"
    }
   ],
   "source": [
    "#forward check\n",
    "np.allclose(pool2d.output,out_perm)\n",
    "#backward check \n",
    "np.allclose(pool2d.dinputs,input_grad)"
   ]
  },
  {
   "cell_type": "code",
   "execution_count": null,
   "metadata": {},
   "outputs": [],
   "source": []
  },
  {
   "cell_type": "code",
   "execution_count": null,
   "metadata": {},
   "outputs": [],
   "source": []
  }
 ],
 "metadata": {
  "kernelspec": {
   "display_name": "Python 3",
   "language": "python",
   "name": "python3"
  },
  "language_info": {
   "codemirror_mode": {
    "name": "ipython",
    "version": 3
   },
   "file_extension": ".py",
   "mimetype": "text/x-python",
   "name": "python",
   "nbconvert_exporter": "python",
   "pygments_lexer": "ipython3",
   "version": "3.8.10"
  },
  "orig_nbformat": 4
 },
 "nbformat": 4,
 "nbformat_minor": 2
}
