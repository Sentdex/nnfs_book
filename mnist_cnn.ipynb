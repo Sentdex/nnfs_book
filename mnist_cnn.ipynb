{
 "cells": [
  {
   "cell_type": "code",
   "execution_count": 48,
   "metadata": {},
   "outputs": [],
   "source": [
    "import sys\n",
    "sys.path.insert(0, '..')\n",
    "\n",
    "import numpy as np\n",
    "import pandas as pd\n",
    "import matplotlib.pyplot as plt\n",
    "\n",
    "from convolution.conv_2d import Conv2D\n",
    "from convolution.conv_3d import Conv3D\n",
    "from pooling.maxpool_3d import MaxPooling3D\n",
    "\n",
    "from pooling.maxpool_2d import MaxPooling2D\n",
    "from layers.layer_dense import Layer_Dense\n",
    "from activation_func.relu import Activation_ReLU\n",
    "from loss.activation_softmax_loss_categorical_crossentropy import Activation_Softmax_Loss_CategoricalCrossentropy\n",
    "from optimizers.adam import Optimizer_Adam \n",
    "from model.model import Model\n",
    "from layers.flatten import Flatten\n",
    "from activation_func.softmax import Activation_Softmax\n",
    "from loss.categorical_cross_entropy import Loss_CategoricalCrossentropy\n",
    "from accuracy.accuracy_categorical import Accuracy_Categorical"
   ]
  },
  {
   "cell_type": "code",
   "execution_count": 49,
   "metadata": {},
   "outputs": [],
   "source": [
    "#load datasets\n",
    "test_csv_path='mnist/mnist/test.csv'\n",
    "train_csv_path='mnist/mnist/train.csv'"
   ]
  },
  {
   "cell_type": "code",
   "execution_count": 50,
   "metadata": {},
   "outputs": [],
   "source": [
    "#load the dataset\n",
    "train_data=pd.read_csv(train_csv_path)\n",
    "test_data=pd.read_csv(test_csv_path)"
   ]
  },
  {
   "cell_type": "code",
   "execution_count": 51,
   "metadata": {},
   "outputs": [],
   "source": [
    "#split the dataset and normalize \n",
    "y_train = train_data['label'].values\n",
    "x_train = train_data.drop(columns=['label']).values/255\n",
    "X_test = test_data.values/255"
   ]
  },
  {
   "cell_type": "code",
   "execution_count": 52,
   "metadata": {},
   "outputs": [
    {
     "data": {
      "image/png": "[encoded data removed]",
      "text/plain": [
       "<Figure size 864x360 with 10 Axes>"
      ]
     },
     "metadata": {
      "needs_background": "light"
     },
     "output_type": "display_data"
    }
   ],
   "source": [
    "fig, axes = plt.subplots(2,5, figsize=(12,5))\n",
    "axes = axes.flatten()\n",
    "idx = np.random.randint(0,42000,size=10)\n",
    "for i in range(10):\n",
    "    axes[i].imshow(x_train[idx[i],:].reshape(28,28), cmap='gray')\n",
    "    axes[i].axis('off') # hide the axes ticks\n",
    "    axes[i].set_title(str(int(y_train[idx[i]])), color= 'black', fontsize=25)\n",
    "plt.show()"
   ]
  },
  {
   "attachments": {},
   "cell_type": "markdown",
   "metadata": {},
   "source": [
    "The idea here is to try to implement LeNet(5) implementation but instead of using avr-pooling and sigmoid we gonna try to work with Relu and max pooling with softmax      "
   ]
  },
  {
   "cell_type": "code",
   "execution_count": 57,
   "metadata": {},
   "outputs": [],
   "source": [
    "#reshape x_train to be of shape [N,28,28,1] || train,val data\n",
    "x_train=x_train.reshape(x_train.shape[0],28,28)\n",
    "x_train=np.expand_dims(x_train,axis=3)\n",
    "\n",
    "x_test=X_test.reshape(X_test.shape[0],28,28)\n",
    "x_test=np.expand_dims(x_test,axis=3)"
   ]
  },
  {
   "cell_type": "code",
   "execution_count": 58,
   "metadata": {},
   "outputs": [],
   "source": [
    "#define the model and layers \n",
    "model = Model()\n",
    "model.add(Conv3D([5,5,1,6],6,padding=1,stride=1))\n",
    "model.add(Activation_ReLU())\n",
    "model.add(MaxPooling3D(f=2,stride=2))\n",
    "model.add(Conv3D([5,5,6,16],16,padding=1,stride=1))\n",
    "model.add(MaxPooling3D(f=2,stride=2))\n",
    "model.add(Activation_ReLU())\n",
    "model.add(Flatten())\n",
    "model.add(Layer_Dense(400,200))\n",
    "model.add(Activation_ReLU())\n",
    "model.add(Layer_Dense(200,10))\n",
    "model.add(Activation_Softmax())\n"
   ]
  },
  {
   "cell_type": "code",
   "execution_count": 59,
   "metadata": {},
   "outputs": [],
   "source": [
    "#set loss,optimizer and accuracy \n",
    "model.set(\n",
    "loss=Loss_CategoricalCrossentropy(),\n",
    "optimizer=Optimizer_Adam(decay=5e-5),\n",
    "accuracy=Accuracy_Categorical()\n",
    ")"
   ]
  },
  {
   "cell_type": "code",
   "execution_count": 60,
   "metadata": {},
   "outputs": [],
   "source": [
    "#finalize the model\n",
    "model.finalize()"
   ]
  },
  {
   "cell_type": "code",
   "execution_count": 61,
   "metadata": {},
   "outputs": [
    {
     "name": "stdout",
     "output_type": "stream",
     "text": [
      "epoch1: 1\n"
     ]
    },
    {
     "ename": "TypeError",
     "evalue": "forward() takes 2 positional arguments but 3 were given",
     "output_type": "error",
     "traceback": [
      "\u001b[0;31m---------------------------------------------------------------------------\u001b[0m",
      "\u001b[0;31mTypeError\u001b[0m                                 Traceback (most recent call last)",
      "\u001b[0;32m<ipython-input-61-aae5b94094fa>\u001b[0m in \u001b[0;36m<module>\u001b[0;34m\u001b[0m\n\u001b[0;32m----> 1\u001b[0;31m \u001b[0mmodel\u001b[0m\u001b[0;34m.\u001b[0m\u001b[0mtrain\u001b[0m\u001b[0;34m(\u001b[0m\u001b[0mx_train\u001b[0m\u001b[0;34m,\u001b[0m\u001b[0my_train\u001b[0m\u001b[0;34m,\u001b[0m\u001b[0mepochs\u001b[0m\u001b[0;34m=\u001b[0m\u001b[0;36m1\u001b[0m\u001b[0;34m,\u001b[0m\u001b[0mbatch_size\u001b[0m\u001b[0;34m=\u001b[0m\u001b[0;36m32\u001b[0m\u001b[0;34m,\u001b[0m\u001b[0mprint_every\u001b[0m\u001b[0;34m=\u001b[0m\u001b[0;36m10\u001b[0m\u001b[0;34m)\u001b[0m\u001b[0;34m\u001b[0m\u001b[0;34m\u001b[0m\u001b[0m\n\u001b[0m",
      "\u001b[0;32m~/ml/nnfs/nnfs_book/model/model.py\u001b[0m in \u001b[0;36mtrain\u001b[0;34m(self, X, y, epochs, batch_size, print_every, validation_data)\u001b[0m\n\u001b[1;32m    138\u001b[0m \u001b[0;34m\u001b[0m\u001b[0m\n\u001b[1;32m    139\u001b[0m                 \u001b[0;31m# Perform the forward pass\u001b[0m\u001b[0;34m\u001b[0m\u001b[0;34m\u001b[0m\u001b[0;34m\u001b[0m\u001b[0m\n\u001b[0;32m--> 140\u001b[0;31m                 \u001b[0moutput\u001b[0m \u001b[0;34m=\u001b[0m \u001b[0mself\u001b[0m\u001b[0;34m.\u001b[0m\u001b[0mforward\u001b[0m\u001b[0;34m(\u001b[0m\u001b[0mbatch_X\u001b[0m\u001b[0;34m,\u001b[0m \u001b[0mtraining\u001b[0m\u001b[0;34m=\u001b[0m\u001b[0;32mTrue\u001b[0m\u001b[0;34m)\u001b[0m\u001b[0;34m\u001b[0m\u001b[0;34m\u001b[0m\u001b[0m\n\u001b[0m\u001b[1;32m    141\u001b[0m \u001b[0;34m\u001b[0m\u001b[0m\n\u001b[1;32m    142\u001b[0m                 \u001b[0;31m# Calculate loss\u001b[0m\u001b[0;34m\u001b[0m\u001b[0;34m\u001b[0m\u001b[0;34m\u001b[0m\u001b[0m\n",
      "\u001b[0;32m~/ml/nnfs/nnfs_book/model/model.py\u001b[0m in \u001b[0;36mforward\u001b[0;34m(self, X, training)\u001b[0m\n\u001b[1;32m    301\u001b[0m         \u001b[0;31m# Pass output of the previous object as a parameter\u001b[0m\u001b[0;34m\u001b[0m\u001b[0;34m\u001b[0m\u001b[0;34m\u001b[0m\u001b[0m\n\u001b[1;32m    302\u001b[0m         \u001b[0;32mfor\u001b[0m \u001b[0mlayer\u001b[0m \u001b[0;32min\u001b[0m \u001b[0mself\u001b[0m\u001b[0;34m.\u001b[0m\u001b[0mlayers\u001b[0m\u001b[0;34m:\u001b[0m\u001b[0;34m\u001b[0m\u001b[0;34m\u001b[0m\u001b[0m\n\u001b[0;32m--> 303\u001b[0;31m             \u001b[0mlayer\u001b[0m\u001b[0;34m.\u001b[0m\u001b[0mforward\u001b[0m\u001b[0;34m(\u001b[0m\u001b[0mlayer\u001b[0m\u001b[0;34m.\u001b[0m\u001b[0mprev\u001b[0m\u001b[0;34m.\u001b[0m\u001b[0moutput\u001b[0m\u001b[0;34m,\u001b[0m \u001b[0mtraining\u001b[0m\u001b[0;34m)\u001b[0m\u001b[0;34m\u001b[0m\u001b[0;34m\u001b[0m\u001b[0m\n\u001b[0m\u001b[1;32m    304\u001b[0m \u001b[0;34m\u001b[0m\u001b[0m\n\u001b[1;32m    305\u001b[0m         \u001b[0;31m# \"layer\" is now the last object from the list,\u001b[0m\u001b[0;34m\u001b[0m\u001b[0;34m\u001b[0m\u001b[0;34m\u001b[0m\u001b[0m\n",
      "\u001b[0;31mTypeError\u001b[0m: forward() takes 2 positional arguments but 3 were given"
     ]
    }
   ],
   "source": [
    "model.train(x_train,y_train,epochs=1,batch_size=32,print_every=10)"
   ]
  },
  {
   "cell_type": "code",
   "execution_count": 27,
   "metadata": {},
   "outputs": [
    {
     "name": "stdout",
     "output_type": "stream",
     "text": [
      "(32,)\n"
     ]
    }
   ],
   "source": [
    "ix=np.random.randint(x_train.shape[0],size=32)\n",
    "#layer1\n",
    "conv1=Conv3D([5,5,1,6],6,padding=1,stride=1)\n",
    "relu1=Activation_ReLU()\n",
    "pool1=MaxPooling3D(f=2,stride=2)\n",
    "#layer2\n",
    "conv2=Conv3D([5,5,6,16],16,padding=1,stride=1)\n",
    "pool2=MaxPooling3D(f=2,stride=2)\n",
    "relu2=Activation_ReLU()\n",
    "\n",
    "#fc layer3\n",
    "linear3=Layer_Dense(400,200)\n",
    "relu3=Activation_ReLU()\n",
    "\n",
    "#fc layer4 + softmax\n",
    "linear4=Layer_Dense(200,10)\n",
    "\n",
    "loss_activation=Activation_Softmax_Loss_CategoricalCrossentropy()\n",
    "optimizer =Optimizer_Adam(learning_rate=0.1, decay=1e-5)\n",
    "\n",
    "\n",
    "x_train_batch=x_train[ix]\n",
    "y_train_batch=y_train[ix]\n",
    "\n",
    "print(y_train_batch.shape)"
   ]
  },
  {
   "cell_type": "code",
   "execution_count": 28,
   "metadata": {},
   "outputs": [
    {
     "name": "stdout",
     "output_type": "stream",
     "text": [
      "epoch: 0, acc: 0.094, loss: 2.303\n",
      "epoch: 10, acc: 0.125, loss: 2.276\n",
      "epoch: 20, acc: 0.125, loss: 2.261\n",
      "epoch: 30, acc: 0.156, loss: 2.256\n",
      "epoch: 40, acc: 0.156, loss: 2.256\n",
      "epoch: 50, acc: 0.156, loss: 2.256\n",
      "epoch: 60, acc: 0.156, loss: 2.256\n",
      "epoch: 70, acc: 0.156, loss: 2.255\n",
      "epoch: 80, acc: 0.156, loss: 2.255\n",
      "epoch: 90, acc: 0.156, loss: 2.255\n"
     ]
    }
   ],
   "source": [
    "for epoch in range(100):\n",
    "    #forward pass \n",
    "    conv1.forward(x_train_batch)\n",
    "    relu1.forward(conv1.output,training=True)\n",
    "    pool1.forward(relu1.output)\n",
    "\n",
    "    conv2.forward(pool1.output)\n",
    "    relu2.forward(conv2.output,training=False)\n",
    "    pool2.forward(relu2.output)\n",
    "    #flatten from [n,5,5,16] to [n,400]\n",
    "    x=pool2.output.reshape(pool2.output.shape[0],-1)\n",
    "\n",
    "    #fully connected layers\n",
    "    linear3.forward(x,training=True)\n",
    "    relu3.forward(linear3.output,training=True)\n",
    "    linear4.forward(relu3.output,training=True)\n",
    "    \n",
    "    loss=loss_activation.forward(linear4.output,y_train_batch)\n",
    "    #accuracy is wrong fix later\n",
    "    predictions=np.argmax(loss_activation.output,axis=1)\n",
    "    accuracy=np.mean(predictions==y_train_batch)\n",
    "\n",
    "    if not epoch % 10:\n",
    "        print(f'epoch: {epoch}, ' +\n",
    "                f'acc: {accuracy:.3f}, ' +\n",
    "                f'loss: {loss:.3f}') \n",
    "\n",
    "    #backward pass\n",
    "    loss_activation.backward(loss_activation.output,y_train_batch)\n",
    "    linear4.backward(loss_activation.dinputs)\n",
    "    relu3.backward(linear4.dinputs)\n",
    "    linear3.backward(relu3.dinputs)\n",
    "    #re-flatten out the x shape to normal shape\n",
    "    lin3_dinputs_fl=linear3.dinputs.reshape(linear3.dinputs.shape[0],5,5,16)\n",
    "    pool2.backward(lin3_dinputs_fl)\n",
    "    relu2.backward(pool2.dinputs)\n",
    "    conv2.backward(relu2.dinputs)\n",
    "    pool1.backward(conv2.dinputs)\n",
    "    relu1.backward(pool1.dinputs)\n",
    "    conv1.backward(relu1.dinputs)\n",
    "\n",
    "    #update weights and biases\n",
    "    optimizer.pre_update_params()\n",
    "    optimizer.update_params(linear4)\n",
    "    optimizer.update_params(linear3)\n",
    "    optimizer.update_params(conv2)\n",
    "    optimizer.update_params(conv1)\n",
    "    \n",
    "    #call once post update params \n",
    "    optimizer.post_update_params()\n"
   ]
  },
  {
   "cell_type": "code",
   "execution_count": null,
   "metadata": {},
   "outputs": [],
   "source": []
  }
 ],
 "metadata": {
  "kernelspec": {
   "display_name": "Python 3",
   "language": "python",
   "name": "python3"
  },
  "language_info": {
   "codemirror_mode": {
    "name": "ipython",
    "version": 3
   },
   "file_extension": ".py",
   "mimetype": "text/x-python",
   "name": "python",
   "nbconvert_exporter": "python",
   "pygments_lexer": "ipython3",
   "version": "3.8.10"
  },
  "orig_nbformat": 4
 },
 "nbformat": 4,
 "nbformat_minor": 2
}
