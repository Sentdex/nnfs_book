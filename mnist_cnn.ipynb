{
 "cells": [
  {
   "cell_type": "code",
   "execution_count": 11,
   "metadata": {},
   "outputs": [],
   "source": [
    "import numpy as np\n",
    "import pandas as pd\n",
    "import matplotlib.pyplot as plt\n",
    "\n",
    "from convolution.conv_2d import Conv2D\n",
    "from convolution.conv_3d import Conv3D\n",
    "from pooling.maxpool_3d import MaxPooling3D\n",
    "\n",
    "from pooling.maxpool_2d import MaxPooling2D\n",
    "from layers.layer_dense import Layer_Dense\n",
    "from activation_func.relu import Activation_ReLU\n",
    "from loss.activation_softmax_loss_categorical_crossentropy import Activation_Softmax_Loss_CategoricalCrossentropy\n",
    "from optimizers.adam import Optimizer_Adam \n",
    "from model.model import Model\n",
    "from layers.flatten import Flatten\n",
    "from activation_func.softmax import Activation_Softmax\n",
    "from loss.categorical_cross_entropy import Loss_CategoricalCrossentropy\n",
    "from accuracy.accuracy_categorical import Accuracy_Categorical"
   ]
  },
  {
   "cell_type": "code",
   "execution_count": 2,
   "metadata": {},
   "outputs": [],
   "source": [
    "#load datasets\n",
    "test_csv_path='mnist/mnist/test.csv'\n",
    "train_csv_path='mnist/mnist/train.csv'"
   ]
  },
  {
   "cell_type": "code",
   "execution_count": 3,
   "metadata": {},
   "outputs": [],
   "source": [
    "#load the dataset\n",
    "train_data=pd.read_csv(train_csv_path)\n",
    "test_data=pd.read_csv(test_csv_path)"
   ]
  },
  {
   "cell_type": "code",
   "execution_count": 4,
   "metadata": {},
   "outputs": [],
   "source": [
    "#split the dataset and normalize \n",
    "y_train = train_data['label'].values\n",
    "x_train = train_data.drop(columns=['label']).values/255\n",
    "X_test = test_data.values/255"
   ]
  },
  {
   "cell_type": "code",
   "execution_count": 5,
   "metadata": {},
   "outputs": [
    {
     "data": {
      "image/png": "[encoded data removed]",
      "text/plain": [
       "<Figure size 864x360 with 10 Axes>"
      ]
     },
     "metadata": {
      "needs_background": "light"
     },
     "output_type": "display_data"
    }
   ],
   "source": [
    "fig, axes = plt.subplots(2,5, figsize=(12,5))\n",
    "axes = axes.flatten()\n",
    "idx = np.random.randint(0,42000,size=10)\n",
    "for i in range(10):\n",
    "    axes[i].imshow(x_train[idx[i],:].reshape(28,28), cmap='gray')\n",
    "    axes[i].axis('off') # hide the axes ticks\n",
    "    axes[i].set_title(str(int(y_train[idx[i]])), color= 'black', fontsize=25)\n",
    "plt.show()"
   ]
  },
  {
   "attachments": {},
   "cell_type": "markdown",
   "metadata": {},
   "source": [
    "The idea here is to try to implement LeNet(5) implementation but instead of using avr-pooling and sigmoid we gonna try to work with Relu and max pooling with softmax      "
   ]
  },
  {
   "cell_type": "code",
   "execution_count": 6,
   "metadata": {},
   "outputs": [],
   "source": [
    "#reshape x_train to be of shape [N,28,28,1] || train,val data\n",
    "x_train=x_train.reshape(x_train.shape[0],28,28)\n",
    "x_train=np.expand_dims(x_train,axis=3)\n",
    "\n",
    "x_test=X_test.reshape(X_test.shape[0],28,28)\n",
    "x_test=np.expand_dims(x_test,axis=3)"
   ]
  },
  {
   "cell_type": "code",
   "execution_count": 7,
   "metadata": {},
   "outputs": [],
   "source": [
    "#define the model and layers \n",
    "model = Model()\n",
    "model.add(Conv3D([5,5,1,6],6,padding=1,stride=1))\n",
    "model.add(Activation_ReLU())\n",
    "model.add(MaxPooling3D(f=2,stride=2))\n",
    "model.add(Conv3D([5,5,6,16],16,padding=1,stride=1))\n",
    "model.add(MaxPooling3D(f=2,stride=2))\n",
    "model.add(Activation_ReLU())\n",
    "model.add(Flatten())\n",
    "model.add(Layer_Dense(400,200))\n",
    "model.add(Activation_ReLU())\n",
    "model.add(Layer_Dense(200,10))\n",
    "model.add(Activation_Softmax())\n"
   ]
  },
  {
   "cell_type": "code",
   "execution_count": 8,
   "metadata": {},
   "outputs": [],
   "source": [
    "#set loss,optimizer and accuracy \n",
    "model.set(\n",
    "loss=Loss_CategoricalCrossentropy(),\n",
    "optimizer=Optimizer_Adam(decay=5e-5),\n",
    "accuracy=Accuracy_Categorical()\n",
    ")"
   ]
  },
  {
   "cell_type": "code",
   "execution_count": 9,
   "metadata": {},
   "outputs": [],
   "source": [
    "#finalize the model\n",
    "model.finalize()"
   ]
  },
  {
   "cell_type": "code",
   "execution_count": null,
   "metadata": {},
   "outputs": [],
   "source": [
    "model.train(x_train,y_train,epochs=1,batch_size=32,print_every=10)"
   ]
  }
 ],
 "metadata": {
  "kernelspec": {
   "display_name": "Python 3",
   "language": "python",
   "name": "python3"
  },
  "language_info": {
   "codemirror_mode": {
    "name": "ipython",
    "version": 3
   },
   "file_extension": ".py",
   "mimetype": "text/x-python",
   "name": "python",
   "nbconvert_exporter": "python",
   "pygments_lexer": "ipython3",
   "version": "3.8.10"
  },
  "orig_nbformat": 4
 },
 "nbformat": 4,
 "nbformat_minor": 2
}
